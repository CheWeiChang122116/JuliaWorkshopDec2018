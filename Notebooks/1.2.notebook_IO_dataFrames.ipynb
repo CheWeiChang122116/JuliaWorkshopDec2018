{
 "cells": [
  {
   "cell_type": "markdown",
   "metadata": {},
   "source": [
    "## File I/O: Reading from /writing to a datafile"
   ]
  },
  {
   "cell_type": "code",
   "execution_count": 144,
   "metadata": {
    "scrolled": false
   },
   "outputs": [
    {
     "name": "stdout",
     "output_type": "stream",
     "text": [
      "\u001b[32m\u001b[1m Resolving\u001b[22m\u001b[39m package versions...\n",
      "\u001b[32m\u001b[1m  Updating\u001b[22m\u001b[39m `/opt/julia/environments/v1.0/Project.toml`\n",
      "\u001b[90m [no changes]\u001b[39m\n",
      "\u001b[32m\u001b[1m  Updating\u001b[22m\u001b[39m `/opt/julia/environments/v1.0/Manifest.toml`\n",
      "\u001b[90m [no changes]\u001b[39m\n"
     ]
    }
   ],
   "source": [
    "using Pkg\n",
    "Pkg.add(\"DataFrames\")\n",
    "using DataFrames"
   ]
  },
  {
   "cell_type": "code",
   "execution_count": null,
   "metadata": {},
   "outputs": [],
   "source": [
    "?readdlm"
   ]
  },
  {
   "cell_type": "code",
   "execution_count": 173,
   "metadata": {
    "scrolled": true
   },
   "outputs": [
    {
     "data": {
      "text/plain": [
       "(Any[\"A\" 14.51 … \"CH\" 2017; \"B\" 24.96 … \"D\" 2016; … ; \"D\" 34.65 … \"I\" 2017; \"E\" 15.49 … \"USA\" 2018], AbstractString[\"line\" \"trait1\" … \"location\" \"year\"])"
      ]
     },
     "execution_count": 173,
     "metadata": {},
     "output_type": "execute_result"
    }
   ],
   "source": [
    "using DelimitedFiles\n",
    "myData = readdlm(\"exampleData.csv\", ';', Any, '\\r', header=true)"
   ]
  },
  {
   "cell_type": "code",
   "execution_count": 228,
   "metadata": {
    "scrolled": true
   },
   "outputs": [
    {
     "data": {
      "text/plain": [
       "5×6 Array{Any,2}:\n",
       " \"A\"  14.51  164.26  54.92  \"CH\"   2017\n",
       " \"B\"  24.96  554.82  75.18  \"D\"    2016\n",
       " \"C\"  24.39   94.43  94.8   \"F\"    2015\n",
       " \"D\"  34.65  915.16  45.62  \"I\"    2017\n",
       " \"E\"  15.49  725.89  26.24  \"USA\"  2018"
      ]
     },
     "execution_count": 228,
     "metadata": {},
     "output_type": "execute_result"
    }
   ],
   "source": [
    "myData[1]"
   ]
  },
  {
   "cell_type": "code",
   "execution_count": 229,
   "metadata": {},
   "outputs": [
    {
     "data": {
      "text/plain": [
       "1×6 Array{AbstractString,2}:\n",
       " \"line\"  \"trait1\"  \"trait2\"  \"trait3\"  \"location\"  \"year\""
      ]
     },
     "execution_count": 229,
     "metadata": {},
     "output_type": "execute_result"
    }
   ],
   "source": [
    "myData[2]"
   ]
  },
  {
   "cell_type": "code",
   "execution_count": 231,
   "metadata": {},
   "outputs": [
    {
     "data": {
      "text/plain": [
       "IOStream(<file exampleData.reformatted>)"
      ]
     },
     "execution_count": 231,
     "metadata": {},
     "output_type": "execute_result"
    }
   ],
   "source": [
    "output = open(\"exampleData.reformatted\", \"w\")"
   ]
  },
  {
   "cell_type": "code",
   "execution_count": 232,
   "metadata": {},
   "outputs": [],
   "source": [
    "writedlm(output, [myData[2]; myData[1]])\n",
    "close(output)"
   ]
  },
  {
   "cell_type": "code",
   "execution_count": null,
   "metadata": {},
   "outputs": [],
   "source": [
    "output = open(\"exampleData.reformatted\", \"a\") \n",
    "writedlm(output, myData[1])\n",
    "close(output)"
   ]
  },
  {
   "cell_type": "code",
   "execution_count": 233,
   "metadata": {},
   "outputs": [],
   "source": [
    "Pkg.add(\"CSV\")\n",
    "using CSV"
   ]
  },
  {
   "cell_type": "code",
   "execution_count": 262,
   "metadata": {},
   "outputs": [
    {
     "data": {
      "text/html": [
       "<table class=\"data-frame\"><thead><tr><th></th><th>line</th><th>trait1</th><th>trait2</th><th>trait3</th><th>location</th><th>year</th></tr><tr><th></th><th>String⍰</th><th>Float64⍰</th><th>Float64⍰</th><th>Float64⍰</th><th>String⍰</th><th>Int64⍰</th></tr></thead><tbody><tr><th>1</th><td>A</td><td>14.51</td><td>164.26</td><td>54.92</td><td>CH</td><td>2017</td></tr><tr><th>2</th><td>B</td><td>24.96</td><td>554.82</td><td>75.18</td><td>D</td><td>2016</td></tr><tr><th>3</th><td>C</td><td>24.39</td><td>94.43</td><td>94.8</td><td>F</td><td>2015</td></tr><tr><th>4</th><td>D</td><td>34.65</td><td>915.16</td><td>45.62</td><td>I</td><td>2017</td></tr><tr><th>5</th><td>E</td><td>15.49</td><td>725.89</td><td>26.24</td><td>USA</td><td>2018</td></tr></tbody></table>"
      ],
      "text/latex": [
       "\\begin{tabular}{r|cccccc}\n",
       "\t& line & trait1 & trait2 & trait3 & location & year\\\\\n",
       "\t\\hline\n",
       "\t1 & A & 14.51 & 164.26 & 54.92 & CH & 2017 \\\\\n",
       "\t2 & B & 24.96 & 554.82 & 75.18 & D & 2016 \\\\\n",
       "\t3 & C & 24.39 & 94.43 & 94.8 & F & 2015 \\\\\n",
       "\t4 & D & 34.65 & 915.16 & 45.62 & I & 2017 \\\\\n",
       "\t5 & E & 15.49 & 725.89 & 26.24 & USA & 2018 \\\\\n",
       "\\end{tabular}\n"
      ],
      "text/plain": [
       "5×6 DataFrame\n",
       "│ Row │ line    │ trait1   │ trait2   │ trait3   │ location │ year   │\n",
       "│     │ \u001b[90mString⍰\u001b[39m │ \u001b[90mFloat64⍰\u001b[39m │ \u001b[90mFloat64⍰\u001b[39m │ \u001b[90mFloat64⍰\u001b[39m │ \u001b[90mString⍰\u001b[39m  │ \u001b[90mInt64⍰\u001b[39m │\n",
       "├─────┼─────────┼──────────┼──────────┼──────────┼──────────┼────────┤\n",
       "│ 1   │ A       │ 14.51    │ 164.26   │ 54.92    │ CH       │ 2017   │\n",
       "│ 2   │ B       │ 24.96    │ 554.82   │ 75.18    │ D        │ 2016   │\n",
       "│ 3   │ C       │ 24.39    │ 94.43    │ 94.8     │ F        │ 2015   │\n",
       "│ 4   │ D       │ 34.65    │ 915.16   │ 45.62    │ I        │ 2017   │\n",
       "│ 5   │ E       │ 15.49    │ 725.89   │ 26.24    │ USA      │ 2018   │"
      ]
     },
     "execution_count": 262,
     "metadata": {},
     "output_type": "execute_result"
    }
   ],
   "source": [
    "myCSVdata = CSV.read(\"exampleData.csv\", delim=';',header=true)"
   ]
  },
  {
   "cell_type": "code",
   "execution_count": 263,
   "metadata": {},
   "outputs": [
    {
     "data": {
      "text/plain": [
       "DataFrame"
      ]
     },
     "execution_count": 263,
     "metadata": {},
     "output_type": "execute_result"
    }
   ],
   "source": [
    "typeof(myCSVdata)"
   ]
  },
  {
   "cell_type": "code",
   "execution_count": 268,
   "metadata": {},
   "outputs": [
    {
     "data": {
      "text/plain": [
       "\"exampleData.txtReformatted\""
      ]
     },
     "execution_count": 268,
     "metadata": {},
     "output_type": "execute_result"
    }
   ],
   "source": [
    "CSV.write(\"exampleData.txtReformatted\",myCSVdata, delim='\\t')"
   ]
  },
  {
   "cell_type": "code",
   "execution_count": 34,
   "metadata": {
    "scrolled": true
   },
   "outputs": [
    {
     "data": {
      "text/html": [
       "<table class=\"data-frame\"><thead><tr><th></th><th>line</th><th>trait1</th><th>trait2</th><th>trait3</th><th>location</th><th>year</th></tr><tr><th></th><th>String⍰</th><th>Float64⍰</th><th>Float64⍰</th><th>Float64⍰</th><th>String⍰</th><th>Int64⍰</th></tr></thead><tbody><tr><th>1</th><td>A</td><td>14.51</td><td>164.26</td><td>54.92</td><td>CH</td><td>2017</td></tr><tr><th>2</th><td>B</td><td>24.96</td><td>554.82</td><td>75.18</td><td>D</td><td>2016</td></tr><tr><th>3</th><td>C</td><td>24.39</td><td>94.43</td><td>94.8</td><td>F</td><td>2015</td></tr><tr><th>4</th><td>D</td><td>34.65</td><td>915.16</td><td>45.62</td><td>I</td><td>2017</td></tr><tr><th>5</th><td>E</td><td>15.49</td><td>725.89</td><td>26.24</td><td>USA</td><td>2018</td></tr></tbody></table>"
      ],
      "text/latex": [
       "\\begin{tabular}{r|cccccc}\n",
       "\t& line & trait1 & trait2 & trait3 & location & year\\\\\n",
       "\t\\hline\n",
       "\t1 & A & 14.51 & 164.26 & 54.92 & CH & 2017 \\\\\n",
       "\t2 & B & 24.96 & 554.82 & 75.18 & D & 2016 \\\\\n",
       "\t3 & C & 24.39 & 94.43 & 94.8 & F & 2015 \\\\\n",
       "\t4 & D & 34.65 & 915.16 & 45.62 & I & 2017 \\\\\n",
       "\t5 & E & 15.49 & 725.89 & 26.24 & USA & 2018 \\\\\n",
       "\\end{tabular}\n"
      ],
      "text/plain": [
       "5×6 DataFrame\n",
       "│ Row │ line    │ trait1   │ trait2   │ trait3   │ location │ year   │\n",
       "│     │ \u001b[90mString⍰\u001b[39m │ \u001b[90mFloat64⍰\u001b[39m │ \u001b[90mFloat64⍰\u001b[39m │ \u001b[90mFloat64⍰\u001b[39m │ \u001b[90mString⍰\u001b[39m  │ \u001b[90mInt64⍰\u001b[39m │\n",
       "├─────┼─────────┼──────────┼──────────┼──────────┼──────────┼────────┤\n",
       "│ 1   │ A       │ 14.51    │ 164.26   │ 54.92    │ CH       │ 2017   │\n",
       "│ 2   │ B       │ 24.96    │ 554.82   │ 75.18    │ D        │ 2016   │\n",
       "│ 3   │ C       │ 24.39    │ 94.43    │ 94.8     │ F        │ 2015   │\n",
       "│ 4   │ D       │ 34.65    │ 915.16   │ 45.62    │ I        │ 2017   │\n",
       "│ 5   │ E       │ 15.49    │ 725.89   │ 26.24    │ USA      │ 2018   │"
      ]
     },
     "execution_count": 34,
     "metadata": {},
     "output_type": "execute_result"
    }
   ],
   "source": [
    "myDF = readtable(\"exampleData.csv\", separator=';', header=true)"
   ]
  },
  {
   "cell_type": "code",
   "execution_count": null,
   "metadata": {},
   "outputs": [],
   "source": [
    "?CSV.write"
   ]
  },
  {
   "cell_type": "markdown",
   "metadata": {},
   "source": [
    "### Summary\n",
    "\n",
    "- readdlm(source, delim::AbstractChar, T::Type, eol::AbstractChar; header=false, skipstart=0, - skipblanks=true, use_mmap, quotes=true, dims, comments=false, comment_char='#')\n",
    "- writedlm(f, A, delim='\\t'; opts)\n",
    "- CSV.read(fullpath::Union{AbstractString,IO}, sink::Type{T}=DataFrame, args...; kwargs...)\n",
    "- CSV.write(file_or_io::Union{AbstractString,IO}, source::Type{T}, args...; kwargs...) \n",
    "- readtable(filename, [keyword options])\n",
    "\n",
    "https://docs.julialang.org/en/v1/stdlib/DelimitedFiles/index.html\n",
    "\n",
    "http://juliadata.github.io/CSV.jl/v0.1.1/\n",
    "\n"
   ]
  },
  {
   "cell_type": "markdown",
   "metadata": {},
   "source": [
    "## Dataframes"
   ]
  },
  {
   "cell_type": "code",
   "execution_count": 30,
   "metadata": {
    "scrolled": true
   },
   "outputs": [
    {
     "data": {
      "text/plain": [
       "6-element Array{Symbol,1}:\n",
       " :line    \n",
       " :trait1  \n",
       " :trait2  \n",
       " :trait3  \n",
       " :location\n",
       " :year    "
      ]
     },
     "execution_count": 30,
     "metadata": {},
     "output_type": "execute_result"
    }
   ],
   "source": [
    "names(myDF)"
   ]
  },
  {
   "cell_type": "code",
   "execution_count": 37,
   "metadata": {},
   "outputs": [
    {
     "data": {
      "text/plain": [
       "Symbol"
      ]
     },
     "execution_count": 37,
     "metadata": {},
     "output_type": "execute_result"
    }
   ],
   "source": [
    "typeof(:line)"
   ]
  },
  {
   "cell_type": "code",
   "execution_count": 269,
   "metadata": {},
   "outputs": [
    {
     "data": {
      "text/html": [
       "<table class=\"data-frame\"><thead><tr><th></th><th>line</th><th>trait1</th><th>trait2</th><th>trait3</th><th>location</th><th>year</th></tr><tr><th></th><th>String⍰</th><th>Float64⍰</th><th>Float64⍰</th><th>Float64⍰</th><th>String⍰</th><th>Int64⍰</th></tr></thead><tbody><tr><th>1</th><td>A</td><td>14.51</td><td>164.26</td><td>54.92</td><td>CH</td><td>2017</td></tr><tr><th>2</th><td>B</td><td>24.96</td><td>554.82</td><td>75.18</td><td>D</td><td>2016</td></tr><tr><th>3</th><td>C</td><td>24.39</td><td>94.43</td><td>94.8</td><td>F</td><td>2015</td></tr><tr><th>4</th><td>D</td><td>34.65</td><td>915.16</td><td>45.62</td><td>I</td><td>2017</td></tr><tr><th>5</th><td>E</td><td>15.49</td><td>725.89</td><td>26.24</td><td>USA</td><td>2018</td></tr></tbody></table>"
      ],
      "text/latex": [
       "\\begin{tabular}{r|cccccc}\n",
       "\t& line & trait1 & trait2 & trait3 & location & year\\\\\n",
       "\t\\hline\n",
       "\t1 & A & 14.51 & 164.26 & 54.92 & CH & 2017 \\\\\n",
       "\t2 & B & 24.96 & 554.82 & 75.18 & D & 2016 \\\\\n",
       "\t3 & C & 24.39 & 94.43 & 94.8 & F & 2015 \\\\\n",
       "\t4 & D & 34.65 & 915.16 & 45.62 & I & 2017 \\\\\n",
       "\t5 & E & 15.49 & 725.89 & 26.24 & USA & 2018 \\\\\n",
       "\\end{tabular}\n"
      ],
      "text/plain": [
       "5×6 DataFrame\n",
       "│ Row │ line    │ trait1   │ trait2   │ trait3   │ location │ year   │\n",
       "│     │ \u001b[90mString⍰\u001b[39m │ \u001b[90mFloat64⍰\u001b[39m │ \u001b[90mFloat64⍰\u001b[39m │ \u001b[90mFloat64⍰\u001b[39m │ \u001b[90mString⍰\u001b[39m  │ \u001b[90mInt64⍰\u001b[39m │\n",
       "├─────┼─────────┼──────────┼──────────┼──────────┼──────────┼────────┤\n",
       "│ 1   │ A       │ 14.51    │ 164.26   │ 54.92    │ CH       │ 2017   │\n",
       "│ 2   │ B       │ 24.96    │ 554.82   │ 75.18    │ D        │ 2016   │\n",
       "│ 3   │ C       │ 24.39    │ 94.43    │ 94.8     │ F        │ 2015   │\n",
       "│ 4   │ D       │ 34.65    │ 915.16   │ 45.62    │ I        │ 2017   │\n",
       "│ 5   │ E       │ 15.49    │ 725.89   │ 26.24    │ USA      │ 2018   │"
      ]
     },
     "execution_count": 269,
     "metadata": {},
     "output_type": "execute_result"
    }
   ],
   "source": [
    "head(myDF)"
   ]
  },
  {
   "cell_type": "code",
   "execution_count": 270,
   "metadata": {},
   "outputs": [
    {
     "data": {
      "text/plain": [
       "(5, 6)"
      ]
     },
     "execution_count": 270,
     "metadata": {},
     "output_type": "execute_result"
    }
   ],
   "source": [
    "size(myDF)"
   ]
  },
  {
   "cell_type": "code",
   "execution_count": 39,
   "metadata": {
    "scrolled": false
   },
   "outputs": [
    {
     "data": {
      "text/html": [
       "<table class=\"data-frame\"><thead><tr><th></th><th>variable</th><th>mean</th><th>min</th><th>median</th><th>max</th><th>nunique</th><th>nmissing</th><th>eltype</th></tr><tr><th></th><th>Symbol</th><th>Union…</th><th>Any</th><th>Union…</th><th>Any</th><th>Union…</th><th>Int64</th><th>DataType</th></tr></thead><tbody><tr><th>1</th><td>line</td><td></td><td>A</td><td></td><td>E</td><td>5</td><td>0</td><td>String</td></tr><tr><th>2</th><td>trait1</td><td>22.8</td><td>14.51</td><td>24.39</td><td>34.65</td><td></td><td>0</td><td>Float64</td></tr><tr><th>3</th><td>trait2</td><td>490.912</td><td>94.43</td><td>554.82</td><td>915.16</td><td></td><td>0</td><td>Float64</td></tr><tr><th>4</th><td>trait3</td><td>59.352</td><td>26.24</td><td>54.92</td><td>94.8</td><td></td><td>0</td><td>Float64</td></tr><tr><th>5</th><td>location</td><td></td><td>CH</td><td></td><td>USA</td><td>5</td><td>0</td><td>String</td></tr><tr><th>6</th><td>year</td><td>2016.6</td><td>2015</td><td>2017.0</td><td>2018</td><td></td><td>0</td><td>Int64</td></tr></tbody></table>"
      ],
      "text/latex": [
       "\\begin{tabular}{r|cccccccc}\n",
       "\t& variable & mean & min & median & max & nunique & nmissing & eltype\\\\\n",
       "\t\\hline\n",
       "\t1 & line &  & A &  & E & 5 & 0 & String \\\\\n",
       "\t2 & trait1 & 22.8 & 14.51 & 24.39 & 34.65 &  & 0 & Float64 \\\\\n",
       "\t3 & trait2 & 490.912 & 94.43 & 554.82 & 915.16 &  & 0 & Float64 \\\\\n",
       "\t4 & trait3 & 59.352 & 26.24 & 54.92 & 94.8 &  & 0 & Float64 \\\\\n",
       "\t5 & location &  & CH &  & USA & 5 & 0 & String \\\\\n",
       "\t6 & year & 2016.6 & 2015 & 2017.0 & 2018 &  & 0 & Int64 \\\\\n",
       "\\end{tabular}\n"
      ],
      "text/plain": [
       "6×8 DataFrame. Omitted printing of 1 columns\n",
       "│ Row │ variable │ mean    │ min   │ median │ max    │ nunique │ nmissing │\n",
       "│     │ \u001b[90mSymbol\u001b[39m   │ \u001b[90mUnion…\u001b[39m  │ \u001b[90mAny\u001b[39m   │ \u001b[90mUnion…\u001b[39m │ \u001b[90mAny\u001b[39m    │ \u001b[90mUnion…\u001b[39m  │ \u001b[90mInt64\u001b[39m    │\n",
       "├─────┼──────────┼─────────┼───────┼────────┼────────┼─────────┼──────────┤\n",
       "│ 1   │ line     │         │ A     │        │ E      │ 5       │ 0        │\n",
       "│ 2   │ trait1   │ 22.8    │ 14.51 │ 24.39  │ 34.65  │         │ 0        │\n",
       "│ 3   │ trait2   │ 490.912 │ 94.43 │ 554.82 │ 915.16 │         │ 0        │\n",
       "│ 4   │ trait3   │ 59.352  │ 26.24 │ 54.92  │ 94.8   │         │ 0        │\n",
       "│ 5   │ location │         │ CH    │        │ USA    │ 5       │ 0        │\n",
       "│ 6   │ year     │ 2016.6  │ 2015  │ 2017.0 │ 2018   │         │ 0        │"
      ]
     },
     "execution_count": 39,
     "metadata": {},
     "output_type": "execute_result"
    }
   ],
   "source": [
    "describe(myDF)"
   ]
  },
  {
   "cell_type": "code",
   "execution_count": 52,
   "metadata": {},
   "outputs": [
    {
     "data": {
      "text/plain": [
       "3-element Array{Union{Missing, Float64},1}:\n",
       " 14.51\n",
       " 24.96\n",
       " 24.39"
      ]
     },
     "execution_count": 52,
     "metadata": {},
     "output_type": "execute_result"
    }
   ],
   "source": [
    "myDF[1:3,:trait1]"
   ]
  },
  {
   "cell_type": "code",
   "execution_count": 97,
   "metadata": {},
   "outputs": [
    {
     "data": {
      "text/html": [
       "<table class=\"data-frame\"><thead><tr><th></th><th>line</th><th>trait1</th></tr><tr><th></th><th>String⍰</th><th>Float64⍰</th></tr></thead><tbody><tr><th>1</th><td>A</td><td>14.51</td></tr><tr><th>2</th><td>B</td><td>24.96</td></tr><tr><th>3</th><td>D</td><td>34.65</td></tr></tbody></table>"
      ],
      "text/latex": [
       "\\begin{tabular}{r|cc}\n",
       "\t& line & trait1\\\\\n",
       "\t\\hline\n",
       "\t1 & A & 14.51 \\\\\n",
       "\t2 & B & 24.96 \\\\\n",
       "\t3 & D & 34.65 \\\\\n",
       "\\end{tabular}\n"
      ],
      "text/plain": [
       "3×2 DataFrame\n",
       "│ Row │ line    │ trait1   │\n",
       "│     │ \u001b[90mString⍰\u001b[39m │ \u001b[90mFloat64⍰\u001b[39m │\n",
       "├─────┼─────────┼──────────┤\n",
       "│ 1   │ A       │ 14.51    │\n",
       "│ 2   │ B       │ 24.96    │\n",
       "│ 3   │ D       │ 34.65    │"
      ]
     },
     "execution_count": 97,
     "metadata": {},
     "output_type": "execute_result"
    }
   ],
   "source": [
    "myDF[[1, 2, 4],[:line,:trait1]]"
   ]
  },
  {
   "cell_type": "code",
   "execution_count": 64,
   "metadata": {
    "scrolled": true
   },
   "outputs": [
    {
     "data": {
      "text/plain": [
       "5-element Array{Union{Missing, Int64},1}:\n",
       " 2017\n",
       " 2016\n",
       " 2015\n",
       " 2017\n",
       " 2018"
      ]
     },
     "execution_count": 64,
     "metadata": {},
     "output_type": "execute_result"
    }
   ],
   "source": [
    "myDF[:year]"
   ]
  },
  {
   "cell_type": "code",
   "execution_count": 67,
   "metadata": {},
   "outputs": [
    {
     "data": {
      "text/plain": [
       "5-element BitArray{1}:\n",
       "  true\n",
       "  true\n",
       " false\n",
       "  true\n",
       "  true"
      ]
     },
     "execution_count": 67,
     "metadata": {},
     "output_type": "execute_result"
    }
   ],
   "source": [
    "myDF[:year] .> 2015"
   ]
  },
  {
   "cell_type": "code",
   "execution_count": 69,
   "metadata": {
    "scrolled": true
   },
   "outputs": [
    {
     "data": {
      "text/html": [
       "<table class=\"data-frame\"><thead><tr><th></th><th>line</th><th>trait1</th><th>trait2</th><th>trait3</th><th>location</th><th>year</th></tr><tr><th></th><th>String⍰</th><th>Float64⍰</th><th>Float64⍰</th><th>Float64⍰</th><th>String⍰</th><th>Int64⍰</th></tr></thead><tbody><tr><th>1</th><td>A</td><td>14.51</td><td>164.26</td><td>54.92</td><td>CH</td><td>2017</td></tr><tr><th>2</th><td>B</td><td>24.96</td><td>554.82</td><td>75.18</td><td>D</td><td>2016</td></tr><tr><th>3</th><td>D</td><td>34.65</td><td>915.16</td><td>45.62</td><td>I</td><td>2017</td></tr><tr><th>4</th><td>E</td><td>15.49</td><td>725.89</td><td>26.24</td><td>USA</td><td>2018</td></tr></tbody></table>"
      ],
      "text/latex": [
       "\\begin{tabular}{r|cccccc}\n",
       "\t& line & trait1 & trait2 & trait3 & location & year\\\\\n",
       "\t\\hline\n",
       "\t1 & A & 14.51 & 164.26 & 54.92 & CH & 2017 \\\\\n",
       "\t2 & B & 24.96 & 554.82 & 75.18 & D & 2016 \\\\\n",
       "\t3 & D & 34.65 & 915.16 & 45.62 & I & 2017 \\\\\n",
       "\t4 & E & 15.49 & 725.89 & 26.24 & USA & 2018 \\\\\n",
       "\\end{tabular}\n"
      ],
      "text/plain": [
       "4×6 DataFrame\n",
       "│ Row │ line    │ trait1   │ trait2   │ trait3   │ location │ year   │\n",
       "│     │ \u001b[90mString⍰\u001b[39m │ \u001b[90mFloat64⍰\u001b[39m │ \u001b[90mFloat64⍰\u001b[39m │ \u001b[90mFloat64⍰\u001b[39m │ \u001b[90mString⍰\u001b[39m  │ \u001b[90mInt64⍰\u001b[39m │\n",
       "├─────┼─────────┼──────────┼──────────┼──────────┼──────────┼────────┤\n",
       "│ 1   │ A       │ 14.51    │ 164.26   │ 54.92    │ CH       │ 2017   │\n",
       "│ 2   │ B       │ 24.96    │ 554.82   │ 75.18    │ D        │ 2016   │\n",
       "│ 3   │ D       │ 34.65    │ 915.16   │ 45.62    │ I        │ 2017   │\n",
       "│ 4   │ E       │ 15.49    │ 725.89   │ 26.24    │ USA      │ 2018   │"
      ]
     },
     "execution_count": 69,
     "metadata": {},
     "output_type": "execute_result"
    }
   ],
   "source": [
    "myDF[myDF[:year] .> 2015,:]"
   ]
  },
  {
   "cell_type": "code",
   "execution_count": 73,
   "metadata": {},
   "outputs": [
    {
     "name": "stdout",
     "output_type": "stream",
     "text": [
      "5×6 DataFrame\n",
      "│ Row │ line    │ trait1   │ trait2   │ trait3   │ location │ year   │\n",
      "│     │ \u001b[90mString⍰\u001b[39m │ \u001b[90mFloat64⍰\u001b[39m │ \u001b[90mFloat64⍰\u001b[39m │ \u001b[90mFloat64⍰\u001b[39m │ \u001b[90mString⍰\u001b[39m  │ \u001b[90mInt64⍰\u001b[39m │\n",
      "├─────┼─────────┼──────────┼──────────┼──────────┼──────────┼────────┤\n",
      "│ 1   │ A       │ 14.51    │ 164.26   │ 54.92    │ CH       │ 2017   │\n",
      "│ 2   │ B       │ 24.96    │ 554.82   │ 75.18    │ D        │ 2016   │\n",
      "│ 3   │ C       │ 24.39    │ 94.43    │ 94.8     │ F        │ 2015   │\n",
      "│ 4   │ D       │ 34.65    │ 915.16   │ 45.62    │ I        │ 2017   │\n",
      "│ 5   │ E       │ 15.49    │ 725.89   │ 26.24    │ USA      │ 2018   │"
     ]
    }
   ],
   "source": [
    "show(myDF)"
   ]
  },
  {
   "cell_type": "code",
   "execution_count": 77,
   "metadata": {},
   "outputs": [
    {
     "data": {
      "text/plain": [
       "6-element Array{DataType,1}:\n",
       " Array{Union{Missing, String},1} \n",
       " Array{Union{Missing, Float64},1}\n",
       " Array{Union{Missing, Float64},1}\n",
       " Array{Union{Missing, Float64},1}\n",
       " Array{Union{Missing, String},1} \n",
       " Array{Union{Missing, Int64},1}  "
      ]
     },
     "execution_count": 77,
     "metadata": {},
     "output_type": "execute_result"
    }
   ],
   "source": [
    "colwise(typeof,myDF)"
   ]
  },
  {
   "cell_type": "code",
   "execution_count": 78,
   "metadata": {},
   "outputs": [
    {
     "data": {
      "text/plain": [
       "(5, 6)"
      ]
     },
     "execution_count": 78,
     "metadata": {},
     "output_type": "execute_result"
    }
   ],
   "source": [
    "size(myDF)"
   ]
  },
  {
   "cell_type": "code",
   "execution_count": 80,
   "metadata": {},
   "outputs": [
    {
     "data": {
      "text/plain": [
       "DataFrame"
      ]
     },
     "execution_count": 80,
     "metadata": {},
     "output_type": "execute_result"
    }
   ],
   "source": [
    "typeof(myDF)"
   ]
  },
  {
   "cell_type": "code",
   "execution_count": 139,
   "metadata": {
    "scrolled": true
   },
   "outputs": [
    {
     "data": {
      "text/html": [
       "<table class=\"data-frame\"><thead><tr><th></th><th>line</th><th>trait1</th><th>trait2</th><th>trait3</th><th>location</th><th>year</th></tr><tr><th></th><th>Any</th><th>Any</th><th>Any</th><th>Any</th><th>Any</th><th>Any</th></tr></thead><tbody><tr><th>1</th><td>A</td><td>29.02</td><td>410.65</td><td>142.792</td><td>CH</td><td>2017</td></tr><tr><th>2</th><td>B</td><td>49.92</td><td>1387.05</td><td>195.468</td><td>D</td><td>2016</td></tr><tr><th>3</th><td>C</td><td>48.78</td><td>236.075</td><td>246.48</td><td>F</td><td>2015</td></tr><tr><th>4</th><td>D</td><td>69.3</td><td>2287.9</td><td>118.612</td><td>I</td><td>2017</td></tr><tr><th>5</th><td>E</td><td>30.98</td><td>1814.72</td><td>68.224</td><td>USA</td><td>2018</td></tr></tbody></table>"
      ],
      "text/latex": [
       "\\begin{tabular}{r|cccccc}\n",
       "\t& line & trait1 & trait2 & trait3 & location & year\\\\\n",
       "\t\\hline\n",
       "\t1 & A & 29.02 & 410.65 & 142.792 & CH & 2017 \\\\\n",
       "\t2 & B & 49.92 & 1387.05 & 195.468 & D & 2016 \\\\\n",
       "\t3 & C & 48.78 & 236.075 & 246.48 & F & 2015 \\\\\n",
       "\t4 & D & 69.3 & 2287.9 & 118.612 & I & 2017 \\\\\n",
       "\t5 & E & 30.98 & 1814.72 & 68.224 & USA & 2018 \\\\\n",
       "\\end{tabular}\n"
      ],
      "text/plain": [
       "5×6 DataFrame\n",
       "│ Row │ line │ trait1 │ trait2  │ trait3  │ location │ year │\n",
       "│     │ \u001b[90mAny\u001b[39m  │ \u001b[90mAny\u001b[39m    │ \u001b[90mAny\u001b[39m     │ \u001b[90mAny\u001b[39m     │ \u001b[90mAny\u001b[39m      │ \u001b[90mAny\u001b[39m  │\n",
       "├─────┼──────┼────────┼─────────┼─────────┼──────────┼──────┤\n",
       "│ 1   │ A    │ 29.02  │ 410.65  │ 142.792 │ CH       │ 2017 │\n",
       "│ 2   │ B    │ 49.92  │ 1387.05 │ 195.468 │ D        │ 2016 │\n",
       "│ 3   │ C    │ 48.78  │ 236.075 │ 246.48  │ F        │ 2015 │\n",
       "│ 4   │ D    │ 69.3   │ 2287.9  │ 118.612 │ I        │ 2017 │\n",
       "│ 5   │ E    │ 30.98  │ 1814.72 │ 68.224  │ USA      │ 2018 │"
      ]
     },
     "execution_count": 139,
     "metadata": {},
     "output_type": "execute_result"
    }
   ],
   "source": [
    "myDF2 = DataFrame([myDF[:line] myDF[:trait1]*2 myDF[:trait2]*2.5 myDF[:trait3]*2.6 myDF[:location] myDF[:year]], names(myDF))"
   ]
  },
  {
   "cell_type": "code",
   "execution_count": 140,
   "metadata": {},
   "outputs": [
    {
     "data": {
      "text/html": [
       "<table class=\"data-frame\"><thead><tr><th></th><th>line</th><th>trait1</th><th>trait2</th><th>trait3</th><th>location</th><th>year</th></tr><tr><th></th><th>Any</th><th>Any</th><th>Any</th><th>Any</th><th>Any</th><th>Any</th></tr></thead><tbody><tr><th>1</th><td>A</td><td>14.51</td><td>164.26</td><td>54.92</td><td>CH</td><td>2017</td></tr><tr><th>2</th><td>B</td><td>24.96</td><td>554.82</td><td>75.18</td><td>D</td><td>2016</td></tr><tr><th>3</th><td>C</td><td>24.39</td><td>94.43</td><td>94.8</td><td>F</td><td>2015</td></tr><tr><th>4</th><td>D</td><td>34.65</td><td>915.16</td><td>45.62</td><td>I</td><td>2017</td></tr><tr><th>5</th><td>E</td><td>15.49</td><td>725.89</td><td>26.24</td><td>USA</td><td>2018</td></tr><tr><th>6</th><td>A</td><td>29.02</td><td>410.65</td><td>142.792</td><td>CH</td><td>2017</td></tr><tr><th>7</th><td>B</td><td>49.92</td><td>1387.05</td><td>195.468</td><td>D</td><td>2016</td></tr><tr><th>8</th><td>C</td><td>48.78</td><td>236.075</td><td>246.48</td><td>F</td><td>2015</td></tr><tr><th>9</th><td>D</td><td>69.3</td><td>2287.9</td><td>118.612</td><td>I</td><td>2017</td></tr><tr><th>10</th><td>E</td><td>30.98</td><td>1814.72</td><td>68.224</td><td>USA</td><td>2018</td></tr></tbody></table>"
      ],
      "text/latex": [
       "\\begin{tabular}{r|cccccc}\n",
       "\t& line & trait1 & trait2 & trait3 & location & year\\\\\n",
       "\t\\hline\n",
       "\t1 & A & 14.51 & 164.26 & 54.92 & CH & 2017 \\\\\n",
       "\t2 & B & 24.96 & 554.82 & 75.18 & D & 2016 \\\\\n",
       "\t3 & C & 24.39 & 94.43 & 94.8 & F & 2015 \\\\\n",
       "\t4 & D & 34.65 & 915.16 & 45.62 & I & 2017 \\\\\n",
       "\t5 & E & 15.49 & 725.89 & 26.24 & USA & 2018 \\\\\n",
       "\t6 & A & 29.02 & 410.65 & 142.792 & CH & 2017 \\\\\n",
       "\t7 & B & 49.92 & 1387.05 & 195.468 & D & 2016 \\\\\n",
       "\t8 & C & 48.78 & 236.075 & 246.48 & F & 2015 \\\\\n",
       "\t9 & D & 69.3 & 2287.9 & 118.612 & I & 2017 \\\\\n",
       "\t10 & E & 30.98 & 1814.72 & 68.224 & USA & 2018 \\\\\n",
       "\\end{tabular}\n"
      ],
      "text/plain": [
       "10×6 DataFrame\n",
       "│ Row │ line │ trait1 │ trait2  │ trait3  │ location │ year │\n",
       "│     │ \u001b[90mAny\u001b[39m  │ \u001b[90mAny\u001b[39m    │ \u001b[90mAny\u001b[39m     │ \u001b[90mAny\u001b[39m     │ \u001b[90mAny\u001b[39m      │ \u001b[90mAny\u001b[39m  │\n",
       "├─────┼──────┼────────┼─────────┼─────────┼──────────┼──────┤\n",
       "│ 1   │ A    │ 14.51  │ 164.26  │ 54.92   │ CH       │ 2017 │\n",
       "│ 2   │ B    │ 24.96  │ 554.82  │ 75.18   │ D        │ 2016 │\n",
       "│ 3   │ C    │ 24.39  │ 94.43   │ 94.8    │ F        │ 2015 │\n",
       "│ 4   │ D    │ 34.65  │ 915.16  │ 45.62   │ I        │ 2017 │\n",
       "│ 5   │ E    │ 15.49  │ 725.89  │ 26.24   │ USA      │ 2018 │\n",
       "│ 6   │ A    │ 29.02  │ 410.65  │ 142.792 │ CH       │ 2017 │\n",
       "│ 7   │ B    │ 49.92  │ 1387.05 │ 195.468 │ D        │ 2016 │\n",
       "│ 8   │ C    │ 48.78  │ 236.075 │ 246.48  │ F        │ 2015 │\n",
       "│ 9   │ D    │ 69.3   │ 2287.9  │ 118.612 │ I        │ 2017 │\n",
       "│ 10  │ E    │ 30.98  │ 1814.72 │ 68.224  │ USA      │ 2018 │"
      ]
     },
     "execution_count": 140,
     "metadata": {},
     "output_type": "execute_result"
    }
   ],
   "source": [
    "vcat(myDF, myDF2)"
   ]
  },
  {
   "cell_type": "markdown",
   "metadata": {},
   "source": [
    " ## Summary\n",
    " - accessing header /column names of dataframe\n",
    " - concatenating data\n",
    " - selecting elements, rows, cols\n",
    " - http://juliadata.github.io/DataFrames.jl/v0.9.1/\n",
    " "
   ]
  }
 ],
 "metadata": {
  "kernelspec": {
   "display_name": "Julia 1.0.0",
   "language": "julia",
   "name": "julia-1.0"
  },
  "language_info": {
   "file_extension": ".jl",
   "mimetype": "application/julia",
   "name": "julia",
   "version": "1.0.0"
  }
 },
 "nbformat": 4,
 "nbformat_minor": 2
}
